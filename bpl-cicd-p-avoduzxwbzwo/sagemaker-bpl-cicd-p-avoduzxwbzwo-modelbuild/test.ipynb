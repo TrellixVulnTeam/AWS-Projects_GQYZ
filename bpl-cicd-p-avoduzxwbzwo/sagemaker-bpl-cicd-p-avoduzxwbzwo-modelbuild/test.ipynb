{
 "cells": [
  {
   "cell_type": "code",
   "execution_count": 5,
   "metadata": {},
   "outputs": [],
   "source": [
    "import argparse\n",
    "import logging\n",
    "import os\n",
    "import pathlib\n",
    "import requests\n",
    "import tempfile\n",
    "\n",
    "import boto3\n",
    "import numpy as np\n",
    "import pandas as pd\n",
    "\n",
    "from sklearn.compose import ColumnTransformer\n",
    "from sklearn.impute import SimpleImputer\n",
    "from sklearn.pipeline import Pipeline\n",
    "from sklearn.preprocessing import StandardScaler, OneHotEncoder\n",
    "\n",
    "logger = logging.getLogger()\n",
    "logger.setLevel(logging.INFO)\n",
    "logger.addHandler(logging.StreamHandler())\n"
   ]
  },
  {
   "cell_type": "code",
   "execution_count": 6,
   "metadata": {},
   "outputs": [],
   "source": [
    "# Since we get a headerless CSV file we specify the column names here.\n",
    "feature_columns_names = [\n",
    "    \"Age\",\n",
    "    \"Experience\",\n",
    "    \"Income\",\n",
    "    \"ZIP Code\",\n",
    "    \"Family\",\n",
    "    \"CCAvg\",\n",
    "    \"Education\",\n",
    "    \"Mortgage\",\n",
    "    \"Personal Loan\",\n",
    "    \"Securities Account\",\n",
    "    \"CD Account\",\n",
    "    \"Online\",\n",
    "    \"CreditCard\",\n",
    "]\n",
    "label_column = \"Personal Loan\"\n",
    "\n",
    "feature_columns_dtype = {\n",
    "    \"Age\": str,\n",
    "    \"Experience\" : np.float64,\n",
    "    \"Income\" : np.float64,\n",
    "    \"ZIP Code\": np.float64,\n",
    "    \"Family\" : np.float64,\n",
    "    \"CCAvg\"  : np.float64,\n",
    "    \"Education\" : np.float64,\n",
    "    \"Mortgage\" : np.float64,\n",
    "    \"Personal Loan\" : np.float64,\n",
    "    \"Securities Account\" : np.float64,\n",
    "    \"CD Account\" : np.float64,\n",
    "    \"Online\" : np.float64,\n",
    "    \"CreditCard\" : np.float64,\n",
    "}\n",
    "label_column_dtype = {\"Personal Loan\": np.float64}"
   ]
  },
  {
   "cell_type": "code",
   "execution_count": 7,
   "metadata": {},
   "outputs": [],
   "source": [
    "def merge_two_dicts(x, y):\n",
    "    \"\"\"Merges two dicts, returning a new copy.\"\"\"\n",
    "    z = x.copy()\n",
    "    z.update(y)\n",
    "    return z\n"
   ]
  },
  {
   "cell_type": "code",
   "execution_count": 10,
   "metadata": {},
   "outputs": [],
   "source": [
    "logger.debug(\"Starting preprocessing.\")\n",
    "parser = argparse.ArgumentParser()\n",
    "parser.add_argument(\"--input-data\", type=str, required=True)\n",
    "\n",
    "base_dir = \"/opt/ml/processing\"\n",
    "pathlib.Path(f\"{base_dir}/data\").mkdir(parents=True, exist_ok=True)"
   ]
  },
  {
   "cell_type": "code",
   "execution_count": null,
   "metadata": {},
   "outputs": [],
   "source": []
  }
 ],
 "metadata": {
  "kernelspec": {
   "display_name": "Python 3 (Data Science)",
   "language": "python",
   "name": "python3__SAGEMAKER_INTERNAL__arn:aws:sagemaker:ap-south-1:394103062818:image/datascience-1.0"
  },
  "language_info": {
   "codemirror_mode": {
    "name": "ipython",
    "version": 3
   },
   "file_extension": ".py",
   "mimetype": "text/x-python",
   "name": "python",
   "nbconvert_exporter": "python",
   "pygments_lexer": "ipython3",
   "version": "3.7.10"
  }
 },
 "nbformat": 4,
 "nbformat_minor": 4
}
